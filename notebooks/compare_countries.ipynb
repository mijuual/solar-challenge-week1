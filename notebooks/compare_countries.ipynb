{
 "cells": [
  {
   "cell_type": "code",
   "execution_count": null,
   "id": "856699fe",
   "metadata": {},
   "outputs": [],
   "source": [
    "import pandas as pd\n",
    "import numpy as np \n",
    "import seaborn as sns\n",
    "import matplotlib.pyplot as plt \n",
    "from scipy import stats "
   ]
  },
  {
   "cell_type": "code",
   "execution_count": null,
   "id": "26abecee",
   "metadata": {},
   "outputs": [],
   "source": [
    "df_benin = pd.read_csv(\"../src/data/benin_cleaned_data.csv\")\n",
    "df_sier = pd.read_csv(\"../src/data/sierraleone_cleaned_data.csv\")\n",
    "df_togo = pd.read_csv(\"../src/data/togo-dapaong_cleaned_data.csv\")"
   ]
  },
  {
   "cell_type": "markdown",
   "id": "9c0ace64",
   "metadata": {},
   "source": [
    "Metric Comparison with Boxplots"
   ]
  },
  {
   "cell_type": "code",
   "execution_count": null,
   "id": "c9321552",
   "metadata": {},
   "outputs": [],
   "source": [
    "# Add a Country column to distinguish them when combined\n",
    "df_benin['Country'] = 'Benin'\n",
    "df_sier['Country'] = 'Sierra Leone'\n",
    "df_togo['Country'] = 'Togo'\n",
    "\n",
    "#Merge all three into a single DataFrame\n",
    "df_all = pd.concat([df_benin, df_sier, df_togo], ignore_index=True)\n",
    "\n",
    "#Plot boxplots for each metric\n",
    "metrics = ['GHI', 'DNI', 'DHI']\n",
    "\n",
    "# Set plot style\n",
    "sns.set(style=\"whitegrid\")\n",
    "\n",
    "# Save path base (update as needed)\n",
    "base_path = \"../images/compare_countries/\"\n",
    "\n",
    "\n",
    "# Create boxplots side-by-side\n",
    "for metric in metrics:\n",
    "    plt.figure(figsize=(8, 5))\n",
    "    sns.boxplot(x='Country', y=metric, data=df_all, palette='Set2')\n",
    "    plt.title(f'{metric} Distribution by Country')\n",
    "    plt.xlabel(\"Country\")\n",
    "    plt.ylabel(f\"{metric} (W/m²)\")\n",
    "    plt.tight_layout()\n",
    "    plt.grid(True, linestyle='--', alpha=0.5)\n",
    "    plt.show()\n",
    "\n",
    "    # Save plot\n",
    "    output_path = f\"{base_path}{metric}_boxplot.png\"\n",
    "    plt.savefig(output_path, dpi=300)\n",
    "    plt.show()\n",
    "\n",
    "    print(f\"✅ Plot saved as: {output_path}\")"
   ]
  },
  {
   "cell_type": "markdown",
   "id": "5c8b9d9c",
   "metadata": {},
   "source": [
    "Summary table"
   ]
  },
  {
   "cell_type": "code",
   "execution_count": null,
   "id": "8c3d64ea",
   "metadata": {},
   "outputs": [],
   "source": [
    "# Create summary table using groupby\n",
    "summary_stats = df_all.groupby('Country')[metrics].agg(['mean', 'median', 'std'])\n",
    "\n",
    "# Round for cleaner display\n",
    "summary_stats = summary_stats.round(2)\n",
    "\n",
    "# Display the result\n",
    "print(\"📊 Summary Table of GHI, DNI, and DHI (Mean, Median, Std) by Country:\")\n",
    "print(summary_stats)"
   ]
  },
  {
   "cell_type": "markdown",
   "id": "34201dc7",
   "metadata": {},
   "source": [
    "Statistical Testing"
   ]
  },
  {
   "cell_type": "code",
   "execution_count": null,
   "id": "64940a83",
   "metadata": {},
   "outputs": [],
   "source": [
    "from scipy.stats import kruskal\n",
    "\n",
    "# Extract GHI values for each country\n",
    "ghi_benin = df_benin['GHI'].dropna()\n",
    "ghi_sier = df_sier['GHI'].dropna()\n",
    "ghi_togo = df_togo['GHI'].dropna()\n",
    "\n",
    "# Run Kruskal–Wallis test\n",
    "stat, p = kruskal(ghi_benin, ghi_sier, ghi_togo)\n",
    "\n",
    "# Print results\n",
    "print(f\"📊 Kruskal–Wallis H-test statistic: {stat:.4f}\")\n",
    "print(f\"📉 p-value: {p:.4f}\")\n",
    "\n",
    "# Interpretation\n",
    "if p < 0.05:\n",
    "    print(\"✅ Significant difference in GHI across countries (reject null hypothesis).\")\n",
    "else:\n",
    "    print(\"ℹ️ No significant difference in GHI across countries (fail to reject null).\")\n",
    "\n",
    "#There is a statistically significant difference in Global Horizontal Irradiance (GHI) \n",
    "# between at least two of the countries."
   ]
  },
  {
   "cell_type": "markdown",
   "id": "b6448df2",
   "metadata": {},
   "source": [
    "- Benin has the highest average and median GHI and DNI, suggesting it receives the most consistent and intense solar radiation — making it a strong candidate for solar installations.\n",
    "\n",
    "- Sierra Leone shows a higher average and median DHI than the other countries, which may indicate more diffuse (scattered) sunlight due to cloud cover \n",
    "\n",
    "- Togo has relatively high GHI, but very low median DNI, suggesting that direct sunlight is more inconsistent "
   ]
  },
  {
   "cell_type": "markdown",
   "id": "e4b21261",
   "metadata": {},
   "source": [
    "Visual Summary"
   ]
  },
  {
   "cell_type": "code",
   "execution_count": null,
   "id": "47483673",
   "metadata": {},
   "outputs": [],
   "source": [
    "# Summary GHI means from summary table\n",
    "avg_ghi = {\n",
    "    'Benin': 474.91,\n",
    "    'Sierra Leone': 376.16 ,\n",
    "    'Togo': 441.00\n",
    "}\n",
    "\n",
    "# Convert to a DataFrame for plotting\n",
    "import pandas as pd\n",
    "ghi_df = pd.DataFrame(list(avg_ghi.items()), columns=['Country', 'Average_GHI'])\n",
    "\n",
    "# Sort for visual clarity\n",
    "ghi_df = ghi_df.sort_values('Average_GHI', ascending=False)\n",
    "\n",
    "# Plot\n",
    "plt.figure(figsize=(6, 4))\n",
    "sns.barplot(data=ghi_df, x='Country', y='Average_GHI', palette='viridis')\n",
    "\n",
    "plt.title(' Average GHI by Country')\n",
    "plt.ylabel('Average GHI (W/m²)')\n",
    "plt.xlabel('Country')\n",
    "plt.tight_layout()\n",
    "plt.grid(axis='y', linestyle='--', alpha=0.5)\n",
    "plt.show()\n",
    "\n",
    "# ✅ Save the plot before showing\n",
    "output_path = \"../images/compare_countries/ghi_avg_by_country.png\"\n",
    "plt.savefig(output_path, dpi=300)  # Save at high resolution\n",
    "plt.show()\n",
    "\n",
    "print(f\"✅ Plot saved as: {output_path}\")"
   ]
  }
 ],
 "metadata": {
  "kernelspec": {
   "display_name": ".venv",
   "language": "python",
   "name": "python3"
  },
  "language_info": {
   "codemirror_mode": {
    "name": "ipython",
    "version": 3
   },
   "file_extension": ".py",
   "mimetype": "text/x-python",
   "name": "python",
   "nbconvert_exporter": "python",
   "pygments_lexer": "ipython3",
   "version": "3.13.3"
  }
 },
 "nbformat": 4,
 "nbformat_minor": 5
}
